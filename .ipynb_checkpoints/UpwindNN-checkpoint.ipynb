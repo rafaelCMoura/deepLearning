{
 "cells": [
  {
   "cell_type": "markdown",
   "metadata": {},
   "source": [
    "## Importando bibliotecas"
   ]
  },
  {
   "cell_type": "code",
   "execution_count": 62,
   "metadata": {},
   "outputs": [],
   "source": [
    "import numpy as np\n",
    "import tensorflow as tf\n",
    "import matplotlib.pyplot as plt"
   ]
  },
  {
   "cell_type": "markdown",
   "metadata": {},
   "source": [
    "## Inicialização das variáveis do problema de advecção"
   ]
  },
  {
   "cell_type": "code",
   "execution_count": 63,
   "metadata": {},
   "outputs": [],
   "source": [
    "# Spatial discretization\n",
    "L = 10.0                                      # Domain length\n",
    "n = 101                                       # Number of points\n",
    "dx = L/(n-1)                                  # Length of spacing\n",
    "x = np.linspace(0,L,n)                        # Node Positions\n",
    "\n",
    "# Time discretization\n",
    "nt = 10                                       # Number of time steps\n",
    "dt = 0.1                                      # Time step\n",
    "\n",
    "# Wave equation parameters\n",
    "a = 0.5                                       # Velocity coefficient\n",
    "\n",
    "# Initial conditions\n",
    "f = np.zeros((n,1))                           # Wave function (Initialization)\n",
    "f[40:60] = 1.0                                # Wave square pulse"
   ]
  },
  {
   "cell_type": "markdown",
   "metadata": {},
   "source": [
    "## Perfil inicial da função f"
   ]
  },
  {
   "cell_type": "code",
   "execution_count": 64,
   "metadata": {},
   "outputs": [
    {
     "data": {
      "image/png": "[encoded data removed]",
      "text/plain": [
       "<matplotlib.figure.Figure at 0x113161898>"
      ]
     },
     "metadata": {},
     "output_type": "display_data"
    }
   ],
   "source": [
    "plt.plot(x,f,'.-b')\n",
    "plt.suptitle('Função f')\n",
    "plt.xlabel('Posição x')\n",
    "plt.ylabel('f')\n",
    "plt.grid()\n",
    "plt.show()"
   ]
  },
  {
   "cell_type": "markdown",
   "metadata": {},
   "source": [
    "## Solução da equação com Upwind"
   ]
  },
  {
   "cell_type": "code",
   "execution_count": 65,
   "metadata": {},
   "outputs": [
    {
     "data": {
      "image/png": "[encoded data removed]",
      "text/plain": [
       "<matplotlib.figure.Figure at 0x113dd80b8>"
      ]
     },
     "metadata": {},
     "output_type": "display_data"
    }
   ],
   "source": [
    "# Time loop\n",
    "for k in range(0,nt):\n",
    "    f_old = f\n",
    "    for i in range(1,n-1):\n",
    "        f[i] = f_old[i] - (a*dt/dx)*(f_old[i]-f_old[i-1])\n",
    "    f[0] = f_old[n-1]\n",
    "    \n",
    "plt.plot(x,f,'.-b')\n",
    "plt.suptitle('Função f')\n",
    "plt.xlabel('Posição x')\n",
    "plt.ylabel('f')\n",
    "plt.grid()\n",
    "plt.show()"
   ]
  }
 ],
 "metadata": {
  "kernelspec": {
   "display_name": "Python 3",
   "language": "python",
   "name": "python3"
  },
  "language_info": {
   "codemirror_mode": {
    "name": "ipython",
    "version": 3
   },
   "file_extension": ".py",
   "mimetype": "text/x-python",
   "name": "python",
   "nbconvert_exporter": "python",
   "pygments_lexer": "ipython3",
   "version": "3.6.3"
  }
 },
 "nbformat": 4,
 "nbformat_minor": 2
}
