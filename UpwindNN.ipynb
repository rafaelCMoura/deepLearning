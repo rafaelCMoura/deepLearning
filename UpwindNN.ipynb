{
 "cells": [
  {
   "cell_type": "markdown",
   "metadata": {},
   "source": [
    "## Importando bibliotecas"
   ]
  },
  {
   "cell_type": "code",
   "execution_count": 2,
   "metadata": {},
   "outputs": [],
   "source": [
    "import numpy as np\n",
    "import tensorflow as tf\n",
    "import matplotlib.pyplot as plt"
   ]
  },
  {
   "cell_type": "markdown",
   "metadata": {},
   "source": [
    "## Inicialização das variáveis do problema de advecção"
   ]
  },
  {
   "cell_type": "code",
   "execution_count": 3,
   "metadata": {},
   "outputs": [],
   "source": [
    "# Spatial discretization\n",
    "L = 10.0                                      # Domain length\n",
    "n = 101                                       # Number of points\n",
    "dx = L/(n-1)                                  # Length of spacing\n",
    "x = np.linspace(0,L,n)                        # Node Positions\n",
    "\n",
    "# Time discretization\n",
    "nt = 10                                       # Number of time steps\n",
    "dt = 0.1                                      # Time step\n",
    "\n",
    "# Wave equation parameters\n",
    "a = 0.5                                       # Velocity coefficient\n",
    "\n",
    "# Initial conditions\n",
    "f = np.zeros((n,1))                           # Wave function (Initialization)\n",
    "f[40:60] = 1.0                                # Wave square pulse\n",
    "fi = np.copy(f)                               # Initial f"
   ]
  },
  {
   "cell_type": "markdown",
   "metadata": {},
   "source": [
    "## Perfil inicial da função f"
   ]
  },
  {
   "cell_type": "code",
   "execution_count": 4,
   "metadata": {},
   "outputs": [
    {
     "data": {
      "image/png": "[encoded data removed]",
      "text/plain": [
       "<matplotlib.figure.Figure at 0x115299198>"
      ]
     },
     "metadata": {},
     "output_type": "display_data"
    }
   ],
   "source": [
    "plt.plot(x,f,'.-b')\n",
    "plt.suptitle('Função f')\n",
    "plt.xlabel('Posição x')\n",
    "plt.ylabel('f')\n",
    "plt.grid()\n",
    "plt.show()"
   ]
  },
  {
   "cell_type": "markdown",
   "metadata": {},
   "source": [
    "## Solução da equação com Upwind"
   ]
  },
  {
   "cell_type": "code",
   "execution_count": 5,
   "metadata": {
    "scrolled": true
   },
   "outputs": [
    {
     "data": {
      "image/png": "[encoded data removed]",
      "text/plain": [
       "<matplotlib.figure.Figure at 0x11520ad68>"
      ]
     },
     "metadata": {},
     "output_type": "display_data"
    }
   ],
   "source": [
    "# Time loop\n",
    "for k in range(0,nt):\n",
    "    fo = np.copy(f)\n",
    "    for i in range(1,n-1):\n",
    "        f[i] = fo[i] - (a*dt/dx)*(fo[i]-fo[i-1])\n",
    "    f[0] = fo[n-1]\n",
    "    \n",
    "plt.plot(x,fi,'--k',x,f,'.-b')\n",
    "plt.suptitle('Função f')\n",
    "plt.xlabel('Posição x')\n",
    "plt.ylabel('f')\n",
    "plt.grid()\n",
    "\n",
    "plt.show()"
   ]
  },
  {
   "cell_type": "markdown",
   "metadata": {},
   "source": [
    "## Matriz com respostas do upwind\n",
    "\n",
    "Criação de uma matriz com valores para, $\\Delta t$, $\\Delta x$, a, $f^{n}_{i}$ e $f^{n}_{i-1}$ e o valor correspondente de $f^{n+1}_{i}$ obtido com a equação da discrtização upwind \n",
    "\n",
    "$$ f^{n+1}_{i} =  f^{n}_{i} - a \\frac{\\Delta t}{\\Delta x} ( f^{n}_{i} - f^{n}_{i-1} ) $$\n",
    "\n",
    "$$ f^{n+1}_{i} =  \\sigma ( f^{n}_{i}, f^{n}_{i-1}, a, \\Delta t, \\Delta x )$$\n",
    "\n",
    "Queremos aqui aproximar a função $\\sigma$ usando uma rede neural"
   ]
  },
  {
   "cell_type": "code",
   "execution_count": 6,
   "metadata": {},
   "outputs": [],
   "source": [
    "nc = 10*10*10*10*10                             # Número de combinações com 10 Valores para cada variável\n",
    "nv = 5                                          # Número de variáveis\n",
    "M = np.zeros((nc,5))                            # Matriz com as combinações entre as variáveis\n",
    "fu = np.zeros((nc,1))                           # Resultado da função sigma da discretização upwind\n",
    "\n",
    "v_fcell = np.linspace(0,2,10)\n",
    "v_fback = np.linspace(0,2,10)\n",
    "v_a = np.linspace(0,2,10)\n",
    "v_dt = np.linspace(0,2,10)\n",
    "v_dx = np.linspace(0.05,2,10)\n",
    "\n",
    "s = 0\n",
    "for i in range(0,10):\n",
    "    for j in range(0,10):\n",
    "        for k in range(0,10):\n",
    "            for l in range(0,10):\n",
    "                for m in range(0,10):\n",
    "                    M[s,0] = v_fcell[i]\n",
    "                    M[s,1] = v_fback[j]\n",
    "                    M[s,2] = v_a[k]\n",
    "                    M[s,3] = v_dt[l]\n",
    "                    M[s,4] = v_dx[m]\n",
    "                    fu[s] = M[s,0] - (M[s,2]*M[s,3]/M[s,4])*(M[s,0]-M[s,1])\n",
    "                    s = s + 1"
   ]
  },
  {
   "cell_type": "markdown",
   "metadata": {},
   "source": [
    "## Inicialização das variáveis da rede neural"
   ]
  },
  {
   "cell_type": "code",
   "execution_count": 7,
   "metadata": {},
   "outputs": [],
   "source": [
    "x = tf.placeholder(tf.float32, [None, n])\n",
    "W = tf.Variable(tf.zeros([n, 10]))\n",
    "b = tf.Variable(tf.zeros([10]))\n",
    "y = tf.nn.softmax(tf.matmul(x, W) + b)"
   ]
  },
  {
   "cell_type": "markdown",
   "metadata": {},
   "source": [
    "## Treinando a rede neural com as respostas do upwind"
   ]
  },
  {
   "cell_type": "code",
   "execution_count": null,
   "metadata": {},
   "outputs": [],
   "source": []
  }
 ],
 "metadata": {
  "kernelspec": {
   "display_name": "Python 3",
   "language": "python",
   "name": "python3"
  },
  "language_info": {
   "codemirror_mode": {
    "name": "ipython",
    "version": 3
   },
   "file_extension": ".py",
   "mimetype": "text/x-python",
   "name": "python",
   "nbconvert_exporter": "python",
   "pygments_lexer": "ipython3",
   "version": "3.6.3"
  }
 },
 "nbformat": 4,
 "nbformat_minor": 2
}
